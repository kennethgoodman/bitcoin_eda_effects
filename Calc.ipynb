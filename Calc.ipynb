{
 "cells": [
  {
   "cell_type": "markdown",
   "metadata": {},
   "source": [
    "## Imports"
   ]
  },
  {
   "cell_type": "code",
   "execution_count": 44,
   "metadata": {
    "collapsed": true
   },
   "outputs": [],
   "source": [
    "import math\n",
    "from sympy import Symbol\n",
    "from sympy.solvers import solve\n",
    "import numpy as np\n",
    "import matplotlib.pyplot as plt\n",
    "%matplotlib inline "
   ]
  },
  {
   "cell_type": "markdown",
   "metadata": {},
   "source": [
    "## Key"
   ]
  },
  {
   "cell_type": "code",
   "execution_count": 1,
   "metadata": {
    "collapsed": true
   },
   "outputs": [],
   "source": [
    "percent_difficulty_drop = .2\n",
    "number_of_blocks_till_eda = 6\n",
    "number_of_minutes_till_eda = 12 * 60 # 12 hours * 60 min\n",
    "Current_Hash_Power = 10606 * 1024 * 1024 * 1024 * 1024 * 1024 # hashes / sec\n",
    "best_antminer = 4.73 * 1024 * 1024 * 1024 * 1024 # hashes / sec\n",
    "best_antminer_price = 489.99 # dollars\n",
    "cost_of_mining_equipment = ( 1.0 * Current_Hash_Power / best_antminer ) * best_antminer_price"
   ]
  },
  {
   "cell_type": "markdown",
   "metadata": {},
   "source": [
    "## Helper Functions"
   ]
  },
  {
   "cell_type": "code",
   "execution_count": 106,
   "metadata": {
    "collapsed": true
   },
   "outputs": [],
   "source": [
    "def eda_will_kick_in(min_to_mine_one_block):\n",
    "    return number_of_blocks_till_eda * min_to_mine_one_block > number_of_minutes_till_eda\n",
    "def get_alpha(total_hashpower,my_hashpower):\n",
    "    return 1.0 * my_hashpower / total_hashpower"
   ]
  },
  {
   "cell_type": "code",
   "execution_count": 132,
   "metadata": {
    "collapsed": true
   },
   "outputs": [],
   "source": [
    "class EDA_Calc:\n",
    "    def __init__(self,percent_difficulty_drop,number_of_blocks_till_eda,number_of_minutes_till_eda):\n",
    "        self.percent_difficulty_drop = percent_difficulty_drop\n",
    "        self.number_of_blocks_till_eda = number_of_blocks_till_eda\n",
    "        self.number_of_minutes_till_eda = number_of_minutes_till_eda\n",
    "        self.average_minute_for_block = 10 # BTC has 10 min blocks\n",
    "        self.calc_equation()\n",
    "    \n",
    "    def calc_equation(self):\n",
    "        \"\"\"\n",
    "           b * x * ((1-p)**n) < m\n",
    "           finds the smallest integer n that will solve this equation\n",
    "        \"\"\"\n",
    "        x = Symbol('x') # min to mine one block\n",
    "        n = Symbol('n') # number of edas that will happen\n",
    "        m = Symbol('m') # min till eda could kick in\n",
    "        b = Symbol('b') # number of blocks we look back on\n",
    "        p = Symbol('p') # percent change\n",
    "        equation = b * x * ((1-p)**n) - m # < 0\n",
    "        equation = equation.subs(m,self.number_of_minutes_till_eda)\n",
    "        equation = equation.subs(b,self.number_of_blocks_till_eda)\n",
    "        equation = equation.subs(p,self.percent_difficulty_drop)\n",
    "        self.equation = equation\n",
    "    \n",
    "    def how_many_edas_will_kick_in(self,var,solve_alpha=False):\n",
    "        \"\"\"\n",
    "            b * x * ((1-p)**n) < m\n",
    "            \n",
    "            > (1-p)^n < m / (b*x)\n",
    "            > n * log(1-p) < log(m/(b*x))\n",
    "            > n < log(m/(b*x))/log(1-p)\n",
    "            \n",
    "            if solve_alpha is false, then var = x, else alpha\n",
    "        \n",
    "        \"\"\"\n",
    "        m = self.number_of_minutes_till_eda\n",
    "        b = self.number_of_blocks_till_eda\n",
    "        p = self.percent_difficulty_drop\n",
    "        \n",
    "        if solve_alpha:\n",
    "            if var == 0:\n",
    "                return np.inf\n",
    "            x = self.average_minute_for_block / var\n",
    "        else:\n",
    "            if var == 0:\n",
    "                return 0\n",
    "            x = var\n",
    "        top = math.log(1.0 * m/(b*x))\n",
    "        bottom = math.log(1-p)\n",
    "        return max(math.ceil( top / bottom ),0)\n",
    "calc = EDA_Calc(percent_difficulty_drop,number_of_blocks_till_eda,number_of_minutes_till_eda)"
   ]
  },
  {
   "cell_type": "markdown",
   "metadata": {},
   "source": [
    "## Plots"
   ]
  },
  {
   "cell_type": "markdown",
   "metadata": {},
   "source": [
    "### # of EDAS that will kick in - Minutes to mine one block"
   ]
  },
  {
   "cell_type": "code",
   "execution_count": 135,
   "metadata": {
    "collapsed": false
   },
   "outputs": [
    {
     "data": {
      "text/plain": [
       "<matplotlib.text.Text at 0x110819250>"
      ]
     },
     "execution_count": 135,
     "metadata": {},
     "output_type": "execute_result"
    },
    {
     "data": {
      "image/png": "[encoded data removed]",
      "text/plain": [
       "<matplotlib.figure.Figure at 0x1101def50>"
      ]
     },
     "metadata": {},
     "output_type": "display_data"
    }
   ],
   "source": [
    "X = np.arange(0.0001,1000)\n",
    "y = map(lambda e: calc.how_many_edas_will_kick_in(e),X)\n",
    "plt.plot(X,y)\n",
    "plt.xlabel('Minutes To Mine One Block')\n",
    "plt.ylabel('Number Of EDAs That Will Kick In')"
   ]
  },
  {
   "cell_type": "markdown",
   "metadata": {},
   "source": [
    "### # of EDAS that will kick in - alpha"
   ]
  },
  {
   "cell_type": "code",
   "execution_count": 140,
   "metadata": {
    "collapsed": false
   },
   "outputs": [
    {
     "data": {
      "text/plain": [
       "<matplotlib.text.Text at 0x110bae990>"
      ]
     },
     "execution_count": 140,
     "metadata": {},
     "output_type": "execute_result"
    },
    {
     "data": {
      "image/png": "[encoded data removed]",
      "text/plain": [
       "<matplotlib.figure.Figure at 0x110cb1ad0>"
      ]
     },
     "metadata": {},
     "output_type": "display_data"
    }
   ],
   "source": [
    "alpha = np.linspace(0.01,.02)\n",
    "y = map(lambda e: calc.how_many_edas_will_kick_in(e,solve_alpha=True),alpha)\n",
    "plt.plot(alpha,y)\n",
    "plt.xlabel('Alpha')\n",
    "plt.ylabel('Number Of EDAs That Will Kick In')"
   ]
  },
  {
   "cell_type": "markdown",
   "metadata": {},
   "source": [
    "### Cost to get alpha of the current hashpower (in USD)"
   ]
  },
  {
   "cell_type": "code",
   "execution_count": 160,
   "metadata": {
    "collapsed": false
   },
   "outputs": [
    {
     "data": {
      "image/png": "[encoded data removed]",
      "text/plain": [
       "<matplotlib.figure.Figure at 0x1127af090>"
      ]
     },
     "metadata": {},
     "output_type": "display_data"
    }
   ],
   "source": [
    "alpha = np.linspace(.001,1)\n",
    "cost = map(lambda a: cost_of_mining_equipment * a, alpha)\n",
    "plt.plot(alpha,cost)\n",
    "plt.xlabel('alpha')\n",
    "plt.ylabel('cost in dollars')\n",
    "ax = plt.gca()\n",
    "ax.ticklabel_format(axis='y', style='sci', scilimits=(7,10))"
   ]
  }
 ],
 "metadata": {
  "kernelspec": {
   "display_name": "Python 2",
   "language": "python",
   "name": "python2"
  },
  "language_info": {
   "codemirror_mode": {
    "name": "ipython",
    "version": 2
   },
   "file_extension": ".py",
   "mimetype": "text/x-python",
   "name": "python",
   "nbconvert_exporter": "python",
   "pygments_lexer": "ipython2",
   "version": "2.7.11"
  }
 },
 "nbformat": 4,
 "nbformat_minor": 2
}
